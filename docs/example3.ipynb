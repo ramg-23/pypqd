{
 "cells": [
  {
   "cell_type": "markdown",
   "id": "cb061fc7-330f-4f53-9088-dda1e36d9b29",
   "metadata": {},
   "source": [
    "# 3. Export datasets"
   ]
  },
  {
   "cell_type": "code",
   "execution_count": null,
   "id": "93f02b14-9417-411c-8420-104d8c925d53",
   "metadata": {},
   "outputs": [],
   "source": []
  }
 ],
 "metadata": {
  "kernelspec": {
   "display_name": "Python 3 (ipykernel)",
   "language": "python",
   "name": "python3"
  },
  "language_info": {
   "codemirror_mode": {
    "name": "ipython",
    "version": 3
   },
   "file_extension": ".py",
   "mimetype": "text/x-python",
   "name": "python",
   "nbconvert_exporter": "python",
   "pygments_lexer": "ipython3",
   "version": "3.9.18"
  }
 },
 "nbformat": 4,
 "nbformat_minor": 5
}
